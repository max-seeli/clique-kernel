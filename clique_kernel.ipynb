{
 "cells": [
  {
   "cell_type": "markdown",
   "metadata": {},
   "source": [
    "# Clique Graph Kernel\n",
    "In this notebook, we will explore connection between cliques in graphs and the modular product of graphs. This will lead us to develop a graph kernel based on clique counting."
   ]
  },
  {
   "cell_type": "code",
   "execution_count": null,
   "metadata": {
    "execution": {
     "iopub.execute_input": "2024-01-07T23:00:52.887016Z",
     "iopub.status.busy": "2024-01-07T23:00:52.886548Z",
     "iopub.status.idle": "2024-01-07T23:00:53.509917Z",
     "shell.execute_reply": "2024-01-07T23:00:53.509549Z"
    }
   },
   "outputs": [],
   "source": [
    "import networkx as nx\n",
    "import numpy as np\n",
    "import matplotlib.pyplot as plt\n",
    "\n",
    "from sklearn.model_selection import train_test_split, GridSearchCV\n",
    "from sklearn.svm import SVC\n",
    "from sklearn.metrics import classification_report, confusion_matrix, ConfusionMatrixDisplay\n",
    "\n",
    "from grakel.kernels import ShortestPath, WeisfeilerLehman\n",
    "from grakel.utils import graph_from_networkx\n",
    "\n",
    "from product import modular_product\n",
    "from visual import plot_graph, plot_horizontally\n",
    "from data import MUTAG\n",
    "from clique_kernel import CliqueKernel"
   ]
  },
  {
   "cell_type": "markdown",
   "metadata": {},
   "source": [
    "## Modular Product of Graphs\n",
    "The modular product of two graphs is a concept in graph theory that involves combining two graphs, G and H, into a single graph. This product has specific applications, particularly in subgraph isomorphism problems. The construction of the modular product graph follows this definition:\n",
    "\n",
    "### Definition\n",
    "The vertex set of the modular product is the Cartesian product of the vertex sets of the two graphs. For any two vertices $(u, v)$ and $(u', v')$ in the modular product, there is an edge between them if and only if $u$ is different from $u'$ and $v$ is different from $v'$ and either:\n",
    "- **Cond. 1**: $u$ and $u'$ are adjacent in the first graph and $v$ and $v'$ are adjacent in the second graph, or\n",
    "- **Cond. 2**: $u$ and $u'$ are not adjacent in the first graph and $v$ and $v'$ are not adjacent in the second graph.\n",
    "\n",
    "$$\n",
    "\\text{Modular}(G, H) = (V_{\\text{mod}}, E_{\\text{mod}}) \\\\\n",
    "V_{\\text{mod}} = V_G \\times V_H \\\\\n",
    "E_{\\text{mod}} = \\{((u, v), (u', v')) \\in V_{\\text{mod}} \\times V_{\\text{mod}} \\,|\\, u \\neq u', v \\neq v', \\\\\n",
    "((u, u') \\in E_G \\wedge (v, v') \\in E_H) \\vee ((u, u') \\notin E_G \\wedge (v, v') \\notin E_H)\\}\n",
    "$$\n",
    "\n",
    "### Application\n",
    "The modular product of two graphs transforms the subgraph isomorphism problem into clique-finding problem. The construction of the modular product allows the equality of the existence of a clique with the isomorphism of the induced subgraphs (from the nodes contained in the clique) of $G$ and $H$.\n",
    "\n",
    "### Example\n",
    "Let's look at an example of the modular product of two graphs. We will use the following two graphs:\n",
    "- $P_3$, the path graph on 3 nodes\n",
    "- $K_3$, the complete graph on 3 nodes"
   ]
  },
  {
   "cell_type": "code",
   "execution_count": null,
   "metadata": {
    "execution": {
     "iopub.execute_input": "2024-01-07T23:00:53.526643Z",
     "iopub.status.busy": "2024-01-07T23:00:53.526433Z",
     "iopub.status.idle": "2024-01-07T23:00:53.637137Z",
     "shell.execute_reply": "2024-01-07T23:00:53.636794Z"
    }
   },
   "outputs": [],
   "source": [
    "P3 = nx.path_graph(3)\n",
    "K3 = nx.complete_graph(3)\n",
    "\n",
    "plot_horizontally([P3, K3], [\"Path Graph P3\", \"Complete Graph K3\"])"
   ]
  },
  {
   "cell_type": "markdown",
   "metadata": {},
   "source": [
    "Now after applying the modular product, we get the following graph:"
   ]
  },
  {
   "cell_type": "code",
   "execution_count": null,
   "metadata": {
    "execution": {
     "iopub.execute_input": "2024-01-07T23:00:53.638795Z",
     "iopub.status.busy": "2024-01-07T23:00:53.638674Z",
     "iopub.status.idle": "2024-01-07T23:00:53.690759Z",
     "shell.execute_reply": "2024-01-07T23:00:53.690143Z"
    }
   },
   "outputs": [],
   "source": [
    "P3_K3 = modular_product(P3, K3)\n",
    "\n",
    "pos = nx.spring_layout(P3_K3, seed=41)\n",
    "\n",
    "plot_graph(P3_K3, pos=pos, title=\"Modular Product of P3 and K3\")"
   ]
  },
  {
   "cell_type": "markdown",
   "metadata": {},
   "source": [
    "Observing the resulting graph we see a strong similarity with the tensor product"
   ]
  },
  {
   "cell_type": "code",
   "execution_count": null,
   "metadata": {
    "execution": {
     "iopub.execute_input": "2024-01-07T23:00:53.692510Z",
     "iopub.status.busy": "2024-01-07T23:00:53.692382Z",
     "iopub.status.idle": "2024-01-07T23:00:53.743547Z",
     "shell.execute_reply": "2024-01-07T23:00:53.743212Z"
    }
   },
   "outputs": [],
   "source": [
    "P3_K3_tensor = nx.tensor_product(P3, K3)\n",
    "\n",
    "plot_graph(P3_K3_tensor, pos=pos, title=\"Tensor Product of P3 and K3\")"
   ]
  },
  {
   "cell_type": "markdown",
   "metadata": {},
   "source": [
    "Thinking about this further, it is not surprising. More generally we can see that the modular product is equal to the tensor product, if one of the graph factors is a complete graph. This is because the **Cond 2.** is always false, since all nodes are adjacent in the complete graph. This means that nodes in the product all result from the first rule, which is corresponding to the definition of the tensor product.\n",
    "\n",
    "Let's look at another example, where we use the following two graphs:\n",
    "- $P_3$, the path graph on 3 nodes\n",
    "- $C_4$, the cycle graph on 4 nodes"
   ]
  },
  {
   "cell_type": "code",
   "execution_count": null,
   "metadata": {
    "execution": {
     "iopub.execute_input": "2024-01-07T23:00:53.745175Z",
     "iopub.status.busy": "2024-01-07T23:00:53.745041Z",
     "iopub.status.idle": "2024-01-07T23:00:53.864613Z",
     "shell.execute_reply": "2024-01-07T23:00:53.863960Z"
    }
   },
   "outputs": [],
   "source": [
    "C4 = nx.cycle_graph(4)\n",
    "\n",
    "plot_horizontally([P3, C4], [\"Path Graph P3\", \"Cycle Graph C4\"])"
   ]
  },
  {
   "cell_type": "markdown",
   "metadata": {},
   "source": [
    "Again we will compute the modular product of these two graphs:"
   ]
  },
  {
   "cell_type": "code",
   "execution_count": null,
   "metadata": {
    "execution": {
     "iopub.execute_input": "2024-01-07T23:00:53.866801Z",
     "iopub.status.busy": "2024-01-07T23:00:53.866527Z",
     "iopub.status.idle": "2024-01-07T23:00:53.958080Z",
     "shell.execute_reply": "2024-01-07T23:00:53.957738Z"
    }
   },
   "outputs": [],
   "source": [
    "P3_C4 = modular_product(P3, C4)\n",
    "P3_C4_tensor = nx.tensor_product(P3, C4)\n",
    "\n",
    "# The following code is to point out the separate components\n",
    "pos = {}\n",
    "for i in range(3):\n",
    "    for j in range(4):\n",
    "        even_col_transform = [idx for idx in range(4) if idx % 2 == 0] + [idx for idx in range(4) if idx % 2 == 1]\n",
    "        odd_col_transform = even_col_transform[::-1]\n",
    "        if i % 2 == 0:\n",
    "            pos[(i, j)] = (i, even_col_transform[j])\n",
    "        else:\n",
    "            pos[(i, j)] = (i, odd_col_transform[j])\n",
    "\n",
    "plot_horizontally([P3_C4, P3_C4_tensor], \n",
    "                  [\"Modular Product of P3 and C4\", \"Tensor Product of P3 and C4\"], \n",
    "                  pos=pos)"
   ]
  },
  {
   "cell_type": "markdown",
   "metadata": {},
   "source": [
    "## Clique Graph Kernel\n",
    "Now that we have seen the connection between cliques and the modular product of graphs, we can use this to develop a graph kernel based on clique counting. The idea is to count the number of cliques of size $k$ in the modular product of two graphs. This is equivalent to counting the number of induced subgraphs of size $k$ in the two graphs that are isomorphic. Alternatively, it is also possible to take cliques of all sizes into account. This is equivalent to counting the number of induced subgraphs in the two graphs that are isomorphic."
   ]
  },
  {
   "cell_type": "code",
   "execution_count": null,
   "metadata": {
    "execution": {
     "iopub.execute_input": "2024-01-07T23:00:53.959704Z",
     "iopub.status.busy": "2024-01-07T23:00:53.959565Z",
     "iopub.status.idle": "2024-01-07T23:00:53.962501Z",
     "shell.execute_reply": "2024-01-07T23:00:53.962260Z"
    }
   },
   "outputs": [],
   "source": [
    "def evaluate_kernel(kernel, graphs, y):\n",
    "    G_train, G_test, y_train, y_test = train_test_split(graphs, y, test_size=0.2, stratify=y)\n",
    "\n",
    "    print(\"Computing the kernel matrix...\", flush=True)\n",
    "    K = kernel.fit_transform(G_train)\n",
    "    print(\"done\")\n",
    "\n",
    "    print(\"Training the SVM...\", flush=True)\n",
    "    svm = SVC()\n",
    "\n",
    "    param_grid = {\n",
    "        \"C\": np.logspace(-5, 5, 50),\n",
    "        \"gamma\": np.logspace(-5, 5, 50),\n",
    "    }\n",
    "\n",
    "    clf = GridSearchCV(svm, param_grid, cv=3, verbose=1, n_jobs=-1)\n",
    "    clf.fit(K, y_train)\n",
    "    print(\"done\")\n",
    "\n",
    "    print(\"Evaluating the model...\", flush=True)\n",
    "    K_test = kernel.transform(G_test)\n",
    "    y_pred = clf.predict(K_test)\n",
    "    print(\"done\")\n",
    "\n",
    "    print(classification_report(y_test, y_pred, zero_division=0))\n",
    "    cm = confusion_matrix(y_test, y_pred)\n",
    "    disp = ConfusionMatrixDisplay(confusion_matrix=cm)\n",
    "    disp.plot(cmap='Blues')\n",
    "    plt.show()\n"
   ]
  },
  {
   "cell_type": "markdown",
   "metadata": {},
   "source": [
    "### Data\n",
    "We will use the MUTAG dataset, which contains 188 graphs of chemical compounds with 7 discrete node labels and 2 discrete edge labels. The task is to classify the graphs into two classes, which are mutagenic or non-mutagenic."
   ]
  },
  {
   "cell_type": "code",
   "execution_count": null,
   "metadata": {
    "execution": {
     "iopub.execute_input": "2024-01-07T23:00:53.963972Z",
     "iopub.status.busy": "2024-01-07T23:00:53.963883Z",
     "iopub.status.idle": "2024-01-07T23:00:54.195197Z",
     "shell.execute_reply": "2024-01-07T23:00:54.194713Z"
    }
   },
   "outputs": [],
   "source": [
    "G, y = MUTAG()"
   ]
  },
  {
   "cell_type": "markdown",
   "metadata": {},
   "source": [
    "## Experiments\n",
    "We will now check how well the clique graph kernel performs on the MUTAG dataset. We will compare different values for $k$ and also compare the results with the Weisfeiler-Lehman subtree kernel and the shortest-path kernel."
   ]
  },
  {
   "cell_type": "code",
   "execution_count": null,
   "metadata": {
    "execution": {
     "iopub.execute_input": "2024-01-07T23:00:54.196726Z",
     "iopub.status.busy": "2024-01-07T23:00:54.196636Z",
     "iopub.status.idle": "2024-01-08T00:50:23.520107Z",
     "shell.execute_reply": "2024-01-08T00:50:23.519655Z"
    }
   },
   "outputs": [],
   "source": [
    "kernel = CliqueKernel(k=3, normalize=True)\n",
    "evaluate_kernel(kernel, G, y)"
   ]
  },
  {
   "cell_type": "code",
   "execution_count": null,
   "metadata": {
    "execution": {
     "iopub.execute_input": "2024-01-08T00:50:23.522583Z",
     "iopub.status.busy": "2024-01-08T00:50:23.521773Z",
     "iopub.status.idle": "2024-01-08T02:44:54.105762Z",
     "shell.execute_reply": "2024-01-08T02:44:54.105333Z"
    }
   },
   "outputs": [],
   "source": [
    "kernel = CliqueKernel(k=5, normalize=True)\n",
    "evaluate_kernel(kernel, G, y)"
   ]
  },
  {
   "cell_type": "code",
   "execution_count": null,
   "metadata": {
    "execution": {
     "iopub.execute_input": "2024-01-08T02:44:54.108121Z",
     "iopub.status.busy": "2024-01-08T02:44:54.107483Z",
     "iopub.status.idle": "2024-01-08T08:04:08.598703Z",
     "shell.execute_reply": "2024-01-08T08:04:08.598277Z"
    }
   },
   "outputs": [],
   "source": [
    "kernel = CliqueKernel(k=None, normalize=True)\n",
    "evaluate_kernel(kernel, G, y)"
   ]
  },
  {
   "cell_type": "markdown",
   "metadata": {},
   "source": [
    "For the comparative methods, we will use the implementations from the `grakel` package. Therefore, we will first need to convert the MUTAG dataset into the format used by the package."
   ]
  },
  {
   "cell_type": "code",
   "execution_count": null,
   "metadata": {
    "execution": {
     "iopub.execute_input": "2024-01-08T08:04:08.601120Z",
     "iopub.status.busy": "2024-01-08T08:04:08.600493Z",
     "iopub.status.idle": "2024-01-08T08:04:08.608523Z",
     "shell.execute_reply": "2024-01-08T08:04:08.608210Z"
    }
   },
   "outputs": [],
   "source": [
    "grakel_G = list(graph_from_networkx(G, node_labels_tag=\"x\"))"
   ]
  },
  {
   "cell_type": "code",
   "execution_count": null,
   "metadata": {
    "execution": {
     "iopub.execute_input": "2024-01-08T08:04:08.610616Z",
     "iopub.status.busy": "2024-01-08T08:04:08.610022Z",
     "iopub.status.idle": "2024-01-08T08:04:09.953167Z",
     "shell.execute_reply": "2024-01-08T08:04:09.952766Z"
    }
   },
   "outputs": [],
   "source": [
    "kernel = ShortestPath(normalize=True)\n",
    "evaluate_kernel(kernel, grakel_G, y)"
   ]
  },
  {
   "cell_type": "code",
   "execution_count": null,
   "metadata": {
    "execution": {
     "iopub.execute_input": "2024-01-08T08:04:09.954977Z",
     "iopub.status.busy": "2024-01-08T08:04:09.954812Z",
     "iopub.status.idle": "2024-01-08T08:04:10.083512Z",
     "shell.execute_reply": "2024-01-08T08:04:10.083256Z"
    }
   },
   "outputs": [],
   "source": [
    "kernel = WeisfeilerLehman(n_iter=5, normalize=True)\n",
    "evaluate_kernel(kernel, grakel_G, y)"
   ]
  },
  {
   "cell_type": "markdown",
   "metadata": {},
   "source": []
  }
 ],
 "metadata": {
  "kernelspec": {
   "display_name": "graph-gumbo",
   "language": "python",
   "name": "python3"
  },
  "language_info": {
   "codemirror_mode": {
    "name": "ipython",
    "version": 3
   },
   "file_extension": ".py",
   "mimetype": "text/x-python",
   "name": "python",
   "nbconvert_exporter": "python",
   "pygments_lexer": "ipython3",
   "version": "3.8.18"
  }
 },
 "nbformat": 4,
 "nbformat_minor": 2
}
